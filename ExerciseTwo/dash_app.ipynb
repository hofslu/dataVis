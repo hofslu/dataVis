{
 "cells": [
  {
   "cell_type": "code",
   "execution_count": 1,
   "metadata": {},
   "outputs": [
    {
     "name": "stdout",
     "output_type": "stream",
     "text": [
      "Overwriting dash_app.py\n"
     ]
    }
   ],
   "source": [
    "%%writefile dash_app.py\n",
    "\n",
    "from dash import Dash, html, dash_table, dcc, callback, Output, Input\n",
    "\n",
    "import dash_bootstrap_components as dbc\n",
    "import plotly.express as px\n",
    "\n",
    "import pandas as pd\n",
    "\n",
    "import os\n",
    "\n",
    "# -----------------------------------------------------------------------------------\n",
    "from sklearn.decomposition import PCA\n",
    "from sklearn import preprocessing\n",
    "\n",
    "def PrComAnalysis(df, string):\n",
    "    df_2020 = df[df[\"year\"] == 2020].copy()\n",
    "\n",
    "    # distributing the dataset into two components X and Y\n",
    "    tmp = list(df_2020.columns)\n",
    "    tmp.remove(string)\n",
    "    tmp.remove('Country Name')\n",
    "    tmp.remove('Country Code')\n",
    "    tmp.remove('year') \n",
    "\n",
    "    # distributing the dataset into two components X and y\n",
    "    # We decided to do the regression on Agricultural land (% of land area)\n",
    "    X = df_2020[tmp].values \n",
    "    y =  df_2020.loc[:,[string]].values\n",
    "\n",
    "    # fitting the Standard scale\n",
    "    X_scaled = preprocessing.scale(X)\n",
    "\n",
    "    # Create a PCA object and fit it to the data\n",
    "    pca = PCA(n_components=2)\n",
    "    principalComponents = pca.fit_transform(X_scaled)\n",
    "\n",
    "    df_PCA = pd.DataFrame(data = principalComponents, index = df_2020['Country Code'].values\n",
    "                          , columns = ['PC1', 'PC2'])\n",
    "    \n",
    "    return df_PCA\n",
    "# -----------------------------------------------------------------------------------\n",
    "\n",
    "# load data\n",
    "# df = pd.read_csv('https://raw.githubusercontent.com/plotly/datasets/master/gapminder2007.csv')\n",
    "# for i in range(0,4):\n",
    "#     name = 'new_col_' + str(i)\n",
    "#     df[name] = 1\n",
    "df = pd.read_csv('./data/claras_dataframe.csv')\n",
    "\n",
    "\n",
    "# Initialize the app - incorporate a Dash Bootstrap theme\n",
    "external_stylesheets = [dbc.themes.CERULEAN]\n",
    "app = Dash(__name__, external_stylesheets=external_stylesheets)\n",
    "\n",
    "\n",
    "# App layout\n",
    "app.layout = dbc.Container([\n",
    "    # dbc.Row([\n",
    "    #     html.H1(\"This is our first python dash(board) app :)\")\n",
    "    # ]),\n",
    "\n",
    "    dbc.Row([\n",
    "        dbc.Col([\n",
    "                dbc.Row([\n",
    "                    dcc.Dropdown(['pop', 'lifeExp', 'gdpPercap'], 'lifeExp', id='controls-and-radio-item'),\n",
    "                ]),\n",
    "                dbc.Row([\n",
    "                    # World-map\n",
    "                    dcc.Graph(\n",
    "                        figure={}, id='map-graph',\n",
    "                        style={'height': '325px'}\n",
    "                    )\n",
    "                ]),\n",
    "        ]),\n",
    "        dbc.Col(\n",
    "            # Scatter-Plot\n",
    "            dcc.Graph(figure={}, id='scatter-graph',\n",
    "                style={\n",
    "                    # \"background-color\": \"#ADD8E6\",\n",
    "                    'height': '350px'\n",
    "                }),\n",
    "                width=6, \n",
    "            ),\n",
    "    ], style={\n",
    "        \"height\": \"350px\",\n",
    "        \"overflow\": \"hidden\"\n",
    "        }),\n",
    "    dbc.Row([\n",
    "        dbc.Col(\n",
    "            # Time-Line\n",
    "            dcc.Graph(figure={}, id='time-line-graph',\n",
    "            style={\n",
    "                'height': '375px'\n",
    "            }),\n",
    "            width=6, style={\n",
    "                # \"background-color\": \"#D8BFD8\",\n",
    "                }\n",
    "            ),\n",
    "        dbc.Col(\n",
    "            # detailed-information\n",
    "            dash_table.DataTable(data=df.to_dict('records'), \n",
    "            page_size=10\n",
    "            ),\n",
    "            width=6,\n",
    "            ),\n",
    "    ], style={\n",
    "        \"height\": \"350px\",\n",
    "        # \"overflow\": \"hidden\"\n",
    "        })\n",
    "\n",
    "],style={\n",
    "    \"height\": \"100vh\", \n",
    "    \"width\": \"100vw\", \n",
    "    # \"background-color\": \"wheat\",\n",
    "    \"overflow\": \"hidden\",\n",
    "    })\n",
    "        # html.Div([\n",
    "        #     # html.Div(children='My First App with Data, Graph, and Controls'),\n",
    "        #     # html.Hr(),\n",
    "        #     dcc.Dropdown(['pop', 'lifeExp', 'gdpPercap', 'new_col_2'], 'lifeExp', id='controls-and-radio-item'),\n",
    "        #     dash_table.DataTable(data=df.to_dict('records'), page_size=10),\n",
    "        #     dcc.Graph(figure={}, id='map-graph'),\n",
    "        #     dcc.Graph(figure={}, id='scatter-graph'),\n",
    "        #     dcc.Graph(figure={}, id='controls-and-graph')\n",
    "        # ])\n",
    "\n",
    "\n",
    "\n",
    "\n",
    "# Add controls to build the interaction\n",
    "@callback(\n",
    "    Output(component_id='map-graph', component_property='figure'),\n",
    "    Input(component_id='controls-and-radio-item', component_property='value')\n",
    ")\n",
    "def update_graph(col_chosen):\n",
    "    fig = px.histogram(df, x='continent', y=col_chosen, histfunc='avg')\n",
    "    fig.update_layout(margin=dict(l=0, r=0, t=5, b=0))\n",
    "    return fig\n",
    "\n",
    "\n",
    "# Add controls to build the interaction\n",
    "@callback(\n",
    "    Output(component_id='scatter-graph', component_property='figure'),\n",
    "    Input(component_id='controls-and-radio-item', component_property='value')\n",
    ")\n",
    "def update_graph(col_chosen):\n",
    "    fig = px.scatter(df, x='continent', y='continent')\n",
    "    fig.update_layout(margin=dict(l=0, r=0, t=10, b=10))\n",
    "    return fig\n",
    "\n",
    "\n",
    "# Add controls to build the interaction\n",
    "@callback(\n",
    "    Output(component_id='time-line-graph', component_property='figure'),\n",
    "    Input(component_id='controls-and-radio-item', component_property='value')\n",
    ")\n",
    "def update_graph(col_chosen):\n",
    "    fig = px.line(df, x=df.index, y=col_chosen) #, title=col_chosen)\n",
    "    fig.update_layout(margin=dict(l=0, r=0, t=0, b=0))\n",
    "    return fig\n",
    "\n",
    "\n",
    "\n",
    "\n",
    "# Run the app\n",
    "if __name__ == '__main__':\n",
    "    app.run_server(debug=True)\n"
   ]
  },
  {
   "cell_type": "code",
   "execution_count": 21,
   "metadata": {},
   "outputs": [
    {
     "name": "stdout",
     "output_type": "stream",
     "text": [
      "Dash is running on http://127.0.0.1:8050/\n",
      "\n",
      " * Serving Flask app 'dash_app'\n",
      " * Debug mode: on\n",
      "^C\n"
     ]
    }
   ],
   "source": [
    "!python dash_app.py"
   ]
  },
  {
   "cell_type": "code",
   "execution_count": 32,
   "metadata": {},
   "outputs": [
    {
     "name": "stdout",
     "output_type": "stream",
     "text": [
      "       country         pop continent  lifeExp     gdpPercap  new_col\n",
      "0  Afghanistan  31889923.0      Asia   43.828    974.580338        1\n",
      "1      Albania   3600523.0    Europe   76.423   5937.029526        1\n",
      "2      Algeria  33333216.0    Africa   72.301   6223.367465        1\n",
      "3       Angola  12420476.0    Africa   42.731   4797.231267        1\n",
      "4    Argentina  40301927.0  Americas   75.320  12779.379640        1\n"
     ]
    }
   ],
   "source": [
    "\n",
    "from dash import Dash, html, dash_table, dcc, callback, Output, Input\n",
    "import plotly.express as px\n",
    "\n",
    "import pandas as pd\n",
    "\n",
    "import os\n",
    "df = pd.read_csv('https://raw.githubusercontent.com/plotly/datasets/master/gapminder2007.csv')\n",
    "df['new_col'] = 1\n",
    "\n",
    "print(df.head())"
   ]
  },
  {
   "cell_type": "code",
   "execution_count": 30,
   "metadata": {},
   "outputs": [
    {
     "data": {
      "text/plain": [
       "0             Afghanistan\n",
       "1                 Albania\n",
       "2                 Algeria\n",
       "3                  Angola\n",
       "4               Argentina\n",
       "              ...        \n",
       "137               Vietnam\n",
       "138    West Bank and Gaza\n",
       "139           Yemen, Rep.\n",
       "140                Zambia\n",
       "141              Zimbabwe\n",
       "Name: country, Length: 142, dtype: object"
      ]
     },
     "execution_count": 30,
     "metadata": {},
     "output_type": "execute_result"
    }
   ],
   "source": [
    "df.iloc[:,0]"
   ]
  },
  {
   "cell_type": "code",
   "execution_count": 1,
   "metadata": {},
   "outputs": [
    {
     "ename": "NameError",
     "evalue": "name 'urlopen' is not defined",
     "output_type": "error",
     "traceback": [
      "\u001b[0;31m---------------------------------------------------------------------------\u001b[0m",
      "\u001b[0;31mNameError\u001b[0m                                 Traceback (most recent call last)",
      "Cell \u001b[0;32mIn[1], line 1\u001b[0m\n\u001b[0;32m----> 1\u001b[0m \u001b[39mwith\u001b[39;00m urlopen(\u001b[39m'\u001b[39m\u001b[39mhttps://raw.githubusercontent.com/plotly/datasets/master/geojson-counties-fips.json\u001b[39m\u001b[39m'\u001b[39m) \u001b[39mas\u001b[39;00m response:\n\u001b[1;32m      2\u001b[0m         counties \u001b[39m=\u001b[39m json\u001b[39m.\u001b[39mload(response)\n",
      "\u001b[0;31mNameError\u001b[0m: name 'urlopen' is not defined"
     ]
    }
   ],
   "source": []
  }
 ],
 "metadata": {
  "kernelspec": {
   "display_name": "Python 3.10.11 ('clara_und_infoVis')",
   "language": "python",
   "name": "python3"
  },
  "language_info": {
   "codemirror_mode": {
    "name": "ipython",
    "version": 3
   },
   "file_extension": ".py",
   "mimetype": "text/x-python",
   "name": "python",
   "nbconvert_exporter": "python",
   "pygments_lexer": "ipython3",
   "version": "3.10.11"
  },
  "orig_nbformat": 4,
  "vscode": {
   "interpreter": {
    "hash": "3a2249ca59deb5ddbd04ee0a649a9e704134f8958529e2a73d0864632fec51ea"
   }
  }
 },
 "nbformat": 4,
 "nbformat_minor": 2
}
