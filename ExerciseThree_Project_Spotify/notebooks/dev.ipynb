{
 "cells": [
  {
   "cell_type": "code",
   "execution_count": 34,
   "metadata": {},
   "outputs": [],
   "source": [
    "\n",
    "LUKAS_CLIENT_ID=\"207e1c72689d4a0a88e0e721cb9bb254\"\n",
    "LUKAS_CLIENT_SECRET=\"2b98d70fb10b4ca1b0008405a353d35c\"\n",
    "\n",
    "\n",
    "# CLARA_CLIENT_ID = \"b8db48d0784f4e2b9ab719adc118e918\"\n",
    "# CLARA_CLIENT_SECRET = \"0a7feca73df44f1c829f125dbe8a6b91\"\n",
    "\n",
    "CLIENT_ID = LUKAS_CLIENT_ID\n",
    "CLIENT_SECRET = LUKAS_CLIENT_SECRET\n",
    "\n",
    "# CLARAS_API_TOKEN=\"BQCcBJ-6O45UfSUQSIyTHCHL24AUy2XLo4pnzcOTnOHo1lUuC99UScVLUJmlgYb7TaCkTVQUeejrafuj5uPCs1yI3ZTTVlRUTAMF9IHWjtNId8yoe44\"\n",
    "# CLARAS_API_TOKEN=\"BQDKeCoVoepbtpvT7AizIKucCV_Ve3ZQnf2tA1XmfhHapIf4hAAyjiSJih--LaKruCcazJ20RaZqqEt_ei-3BCS13HJqbx1fKK8cHLzOJ5EuIbR-Xdw\"\n",
    "# API_TOKEN = CLARAS_API_TOKEN"
   ]
  },
  {
   "cell_type": "code",
   "execution_count": 14,
   "metadata": {},
   "outputs": [
    {
     "name": "stdout",
     "output_type": "stream",
     "text": [
      "{\"access_token\":\"BQATaYo-71G91TULy4rWFF_U5Bx02fHaoZrbPHQxhuwHUaUOSVN8x1OMOpZUqO9LhZGog_XU_6pqPKATyLKTqFJW1qhEx6bcoQL9EYC-m1AzUc3cMyE\",\"token_type\":\"Bearer\",\"expires_in\":3600}"
     ]
    }
   ],
   "source": [
    "!curl -X POST \"https://accounts.spotify.com/api/token\" \\\n",
    "     -H \"Content-Type: application/x-www-form-urlencoded\" \\\n",
    "     -d \"grant_type=client_credentials&client_id=207e1c72689d4a0a88e0e721cb9bb254&client_secret=2b98d70fb10b4ca1b0008405a353d35c\""
   ]
  },
  {
   "cell_type": "code",
   "execution_count": 15,
   "metadata": {},
   "outputs": [],
   "source": [
    "API_TOKEN = \"BQATaYo-71G91TULy4rWFF_U5Bx02fHaoZrbPHQxhuwHUaUOSVN8x1OMOpZUqO9LhZGog_XU_6pqPKATyLKTqFJW1qhEx6bcoQL9EYC-m1AzUc3cMyE\""
   ]
  },
  {
   "cell_type": "code",
   "execution_count": 16,
   "metadata": {},
   "outputs": [
    {
     "name": "stdout",
     "output_type": "stream",
     "text": [
      "BQATaYo-71G91TULy4rWFF_U5Bx02fHaoZrbPHQxhuwHUaUOSVN8x1OMOpZUqO9LhZGog_XU_6pqPKATyLKTqFJW1qhEx6bcoQL9EYC-m1AzUc3cMyE\n",
      "{'error': {'status': 403, 'message': 'Insufficient client scope'}}\n"
     ]
    },
    {
     "ename": "KeyError",
     "evalue": "'items'",
     "output_type": "error",
     "traceback": [
      "\u001b[0;31m---------------------------------------------------------------------------\u001b[0m",
      "\u001b[0;31mKeyError\u001b[0m                                  Traceback (most recent call last)",
      "Cell \u001b[0;32mIn[16], line 33\u001b[0m\n\u001b[1;32m     30\u001b[0m         \u001b[39mprint\u001b[39m(\u001b[39mf\u001b[39m\u001b[39m\"\u001b[39m\u001b[39mDu hast kürzlich \u001b[39m\u001b[39m'\u001b[39m\u001b[39m{\u001b[39;00mtrack[\u001b[39m'\u001b[39m\u001b[39mname\u001b[39m\u001b[39m'\u001b[39m]\u001b[39m}\u001b[39;00m\u001b[39m'\u001b[39m\u001b[39m von \u001b[39m\u001b[39m'\u001b[39m\u001b[39m{\u001b[39;00mtrack[\u001b[39m'\u001b[39m\u001b[39martists\u001b[39m\u001b[39m'\u001b[39m][\u001b[39m0\u001b[39m][\u001b[39m'\u001b[39m\u001b[39mname\u001b[39m\u001b[39m'\u001b[39m]\u001b[39m}\u001b[39;00m\u001b[39m'\u001b[39m\u001b[39m gehört.\u001b[39m\u001b[39m\"\u001b[39m)\n\u001b[1;32m     32\u001b[0m \u001b[39m# Aufrufen der Funktion\u001b[39;00m\n\u001b[0;32m---> 33\u001b[0m get_recently_played(access_token)\n",
      "Cell \u001b[0;32mIn[16], line 28\u001b[0m, in \u001b[0;36mget_recently_played\u001b[0;34m(access_token)\u001b[0m\n\u001b[1;32m     25\u001b[0m \u001b[39mprint\u001b[39m(response_json)\n\u001b[1;32m     27\u001b[0m \u001b[39m# Drucke jeden Song, der kürzlich gespielt wurde\u001b[39;00m\n\u001b[0;32m---> 28\u001b[0m \u001b[39mfor\u001b[39;00m item \u001b[39min\u001b[39;00m response_json[\u001b[39m'\u001b[39;49m\u001b[39mitems\u001b[39;49m\u001b[39m'\u001b[39;49m]:\n\u001b[1;32m     29\u001b[0m     track \u001b[39m=\u001b[39m item[\u001b[39m'\u001b[39m\u001b[39mtrack\u001b[39m\u001b[39m'\u001b[39m]\n\u001b[1;32m     30\u001b[0m     \u001b[39mprint\u001b[39m(\u001b[39mf\u001b[39m\u001b[39m\"\u001b[39m\u001b[39mDu hast kürzlich \u001b[39m\u001b[39m'\u001b[39m\u001b[39m{\u001b[39;00mtrack[\u001b[39m'\u001b[39m\u001b[39mname\u001b[39m\u001b[39m'\u001b[39m]\u001b[39m}\u001b[39;00m\u001b[39m'\u001b[39m\u001b[39m von \u001b[39m\u001b[39m'\u001b[39m\u001b[39m{\u001b[39;00mtrack[\u001b[39m'\u001b[39m\u001b[39martists\u001b[39m\u001b[39m'\u001b[39m][\u001b[39m0\u001b[39m][\u001b[39m'\u001b[39m\u001b[39mname\u001b[39m\u001b[39m'\u001b[39m]\u001b[39m}\u001b[39;00m\u001b[39m'\u001b[39m\u001b[39m gehört.\u001b[39m\u001b[39m\"\u001b[39m)\n",
      "\u001b[0;31mKeyError\u001b[0m: 'items'"
     ]
    }
   ],
   "source": [
    "import requests\n",
    "import json\n",
    "\n",
    "# Dein Spotify Zugangstoken\n",
    "access_token = API_TOKEN\n",
    "print(access_token)\n",
    "\n",
    "def get_recently_played(access_token):\n",
    "    # Setze die URL für die API-Endpunkt\n",
    "    url = \"https://api.spotify.com/v1/me/player/recently-played\"\n",
    "\n",
    "    # Setze die Header für die API-Anforderung\n",
    "    headers = {\n",
    "        \"Accept\": \"application/json\",\n",
    "        \"Content-Type\": \"application/json\",\n",
    "        \"Authorization\": \"Bearer \" + access_token,\n",
    "    }\n",
    "\n",
    "    # Mache die Anforderung\n",
    "    response = requests.get(url, headers=headers)\n",
    "\n",
    "    # Konvertiere die Antwort in JSON\n",
    "    response_json = response.json()\n",
    "\n",
    "    print(response_json)\n",
    "\n",
    "    # Drucke jeden Song, der kürzlich gespielt wurde\n",
    "    for item in response_json['items']:\n",
    "        track = item['track']\n",
    "        print(f\"Du hast kürzlich '{track['name']}' von '{track['artists'][0]['name']}' gehört.\")\n",
    "\n",
    "# Aufrufen der Funktion\n",
    "get_recently_played(access_token)\n"
   ]
  },
  {
   "cell_type": "code",
   "execution_count": 17,
   "metadata": {},
   "outputs": [
    {
     "name": "stdout",
     "output_type": "stream",
     "text": [
      "{'error': {'status': 500, 'message': 'Server error.'}}\n"
     ]
    },
    {
     "ename": "KeyError",
     "evalue": "'items'",
     "output_type": "error",
     "traceback": [
      "\u001b[0;31m---------------------------------------------------------------------------\u001b[0m",
      "\u001b[0;31mKeyError\u001b[0m                                  Traceback (most recent call last)",
      "Cell \u001b[0;32mIn[17], line 15\u001b[0m\n\u001b[1;32m     12\u001b[0m access_token \u001b[39m=\u001b[39m auth_response\u001b[39m.\u001b[39mjson()[\u001b[39m'\u001b[39m\u001b[39maccess_token\u001b[39m\u001b[39m'\u001b[39m]\n\u001b[1;32m     13\u001b[0m access_token\n\u001b[0;32m---> 15\u001b[0m get_recently_played(access_token)\n",
      "Cell \u001b[0;32mIn[16], line 28\u001b[0m, in \u001b[0;36mget_recently_played\u001b[0;34m(access_token)\u001b[0m\n\u001b[1;32m     25\u001b[0m \u001b[39mprint\u001b[39m(response_json)\n\u001b[1;32m     27\u001b[0m \u001b[39m# Drucke jeden Song, der kürzlich gespielt wurde\u001b[39;00m\n\u001b[0;32m---> 28\u001b[0m \u001b[39mfor\u001b[39;00m item \u001b[39min\u001b[39;00m response_json[\u001b[39m'\u001b[39;49m\u001b[39mitems\u001b[39;49m\u001b[39m'\u001b[39;49m]:\n\u001b[1;32m     29\u001b[0m     track \u001b[39m=\u001b[39m item[\u001b[39m'\u001b[39m\u001b[39mtrack\u001b[39m\u001b[39m'\u001b[39m]\n\u001b[1;32m     30\u001b[0m     \u001b[39mprint\u001b[39m(\u001b[39mf\u001b[39m\u001b[39m\"\u001b[39m\u001b[39mDu hast kürzlich \u001b[39m\u001b[39m'\u001b[39m\u001b[39m{\u001b[39;00mtrack[\u001b[39m'\u001b[39m\u001b[39mname\u001b[39m\u001b[39m'\u001b[39m]\u001b[39m}\u001b[39;00m\u001b[39m'\u001b[39m\u001b[39m von \u001b[39m\u001b[39m'\u001b[39m\u001b[39m{\u001b[39;00mtrack[\u001b[39m'\u001b[39m\u001b[39martists\u001b[39m\u001b[39m'\u001b[39m][\u001b[39m0\u001b[39m][\u001b[39m'\u001b[39m\u001b[39mname\u001b[39m\u001b[39m'\u001b[39m]\u001b[39m}\u001b[39;00m\u001b[39m'\u001b[39m\u001b[39m gehört.\u001b[39m\u001b[39m\"\u001b[39m)\n",
      "\u001b[0;31mKeyError\u001b[0m: 'items'"
     ]
    }
   ],
   "source": [
    "auth_url = 'https://accounts.spotify.com/api/token'\n",
    "\n",
    "# Setze deine Client-ID, Client-Geheimnis und den benötigten Scope\n",
    "auth_response_data = {\n",
    "    'grant_type': 'client_credentials',\n",
    "    'client_id': CLIENT_ID,\n",
    "    'client_secret': CLIENT_SECRET,\n",
    "    'scope': 'user-read-recently-played',\n",
    "}\n",
    "\n",
    "auth_response = requests.post(auth_url, data=auth_response_data)\n",
    "access_token = auth_response.json()['access_token']\n",
    "access_token\n",
    "\n",
    "get_recently_played(access_token)"
   ]
  },
  {
   "cell_type": "code",
   "execution_count": 1,
   "metadata": {},
   "outputs": [
    {
     "name": "stdout",
     "output_type": "stream",
     "text": [
      "Collecting spotipy\n",
      "  Downloading spotipy-2.23.0-py3-none-any.whl (29 kB)\n",
      "Collecting requests>=2.25.0\n",
      "  Using cached requests-2.31.0-py3-none-any.whl (62 kB)\n",
      "Collecting urllib3>=1.26.0\n",
      "  Downloading urllib3-2.0.3-py3-none-any.whl (123 kB)\n",
      "\u001b[2K     \u001b[90m━━━━━━━━━━━━━━━━━━━━━━━━━━━━━━━━━━━━━━━\u001b[0m \u001b[32m123.6/123.6 kB\u001b[0m \u001b[31m4.0 MB/s\u001b[0m eta \u001b[36m0:00:00\u001b[0m\n",
      "\u001b[?25hCollecting redis>=3.5.3\n",
      "  Downloading redis-4.5.5-py3-none-any.whl (240 kB)\n",
      "\u001b[2K     \u001b[90m━━━━━━━━━━━━━━━━━━━━━━━━━━━━━━━━━━━━━━━\u001b[0m \u001b[32m240.3/240.3 kB\u001b[0m \u001b[31m7.8 MB/s\u001b[0m eta \u001b[36m0:00:00\u001b[0m\n",
      "\u001b[?25hRequirement already satisfied: six>=1.15.0 in /Users/holu/miniconda3/envs/clara_und_infoVis/lib/python3.10/site-packages (from spotipy) (1.16.0)\n",
      "Collecting async-timeout>=4.0.2\n",
      "  Downloading async_timeout-4.0.2-py3-none-any.whl (5.8 kB)\n",
      "Collecting charset-normalizer<4,>=2\n",
      "  Using cached charset_normalizer-3.1.0-cp310-cp310-macosx_11_0_arm64.whl (123 kB)\n",
      "Collecting certifi>=2017.4.17\n",
      "  Using cached certifi-2023.5.7-py3-none-any.whl (156 kB)\n",
      "Collecting idna<4,>=2.5\n",
      "  Using cached idna-3.4-py3-none-any.whl (61 kB)\n",
      "Installing collected packages: urllib3, idna, charset-normalizer, certifi, async-timeout, requests, redis, spotipy\n",
      "Successfully installed async-timeout-4.0.2 certifi-2023.5.7 charset-normalizer-3.1.0 idna-3.4 redis-4.5.5 requests-2.31.0 spotipy-2.23.0 urllib3-2.0.3\n",
      "Note: you may need to restart the kernel to use updated packages.\n"
     ]
    }
   ],
   "source": [
    "%pip install spotipy"
   ]
  },
  {
   "cell_type": "code",
   "execution_count": 35,
   "metadata": {},
   "outputs": [
    {
     "name": "stdout",
     "output_type": "stream",
     "text": [
      "207e1c72689d4a0a88e0e721cb9bb254\n",
      "2b98d70fb10b4ca1b0008405a353d35c\n",
      "2023-06-12T14:35:55.260Z63 LSD - Will Sparks\n",
      "2023-06-12T14:24:16.980Z52 All Eyes On Me - Fox Stevenson\n",
      "2023-06-12T14:21:19.976Z40 Love Sex Magic - Macky Gee Remix - RUDY\n",
      "2023-06-12T14:18:02.924Z49 Yellow Ferrari - The Toxic Avenger\n",
      "2023-06-12T14:13:35.828Z59 Sometimes - Miami Horror\n",
      "2023-06-12T14:09:25.994Z58 Marijuana - Chrome Sparks\n",
      "2023-06-12T14:06:28.963Z43 Pulsar - Kavinsky\n",
      "2023-06-12T14:02:58.890Z53 Renegade - Kavinsky\n",
      "2023-06-12T13:59:29.897Z23 Too Many Questions - Frustration\n",
      "2023-06-12T13:55:55.976Z37 The Beginning - Dirty Art Club\n",
      "2023-06-12T13:54:17.984Z41 Adieu - What So Not\n",
      "2023-06-12T13:34:42.913Z41 Adieu - What So Not\n",
      "2023-06-12T13:15:43.912Z71 Lost - RSCL\n",
      "2023-06-12T13:11:09.905Z23 Too Many Questions - Frustration\n",
      "2023-06-12T13:07:31.379Z37 The Beginning - Dirty Art Club\n",
      "2023-06-12T13:05:49.382Z41 Adieu - What So Not\n",
      "2023-06-12T13:03:47.026Z23 Too Many Questions - Frustration\n",
      "2023-06-12T13:00:08.291Z37 The Beginning - Dirty Art Club\n",
      "2023-06-12T12:58:26.337Z41 Adieu - What So Not\n",
      "2023-06-12T12:07:35.876Z53 Renegade - Kavinsky\n",
      "2023-06-12T12:04:16.123Z50 NOT FAIR - HYPERTECHNO - HYPERAVE\n",
      "2023-06-12T12:02:32.736Z54 Sonnentanz - Sun Don't Shine (ELIASDASS Remix) - Klangkarussell\n",
      "2023-06-12T11:59:28.444Z58 Never Be Alone - Alexa Harley\n",
      "2023-06-12T11:55:55.164Z70 The Last Goodbye - ODESZA\n",
      "2023-06-12T11:49:55.257Z59 Dachfenster - 01099\n",
      "2023-06-12T11:46:58.205Z60 Annihilate - Will Sparks\n",
      "2023-06-12T11:06:22.272Z63 LSD - Will Sparks\n",
      "2023-06-12T11:03:09.501Z71 Lost - RSCL\n",
      "2023-06-12T10:54:40.380Z23 Too Many Questions - Frustration\n",
      "2023-06-12T10:50:29.483Z48 Hang'em All - Carpenter Brut\n",
      "2023-06-12T10:44:52.047Z61 Falkor's Return - Indecorum\n",
      "2023-06-12T10:41:51.278Z60 Sirens - Monolink\n",
      "2023-06-12T10:38:13.922Z66 Higher - Aktive\n",
      "2023-06-12T10:34:54.387Z84 For the First Time - Mac DeMarco\n",
      "2023-06-12T10:31:52.207Z55 I Love You - Woodkid\n",
      "2023-06-12T10:28:01.359Z63 Eleanor Rigby - Cody Fry\n",
      "2023-06-12T10:23:19.912Z41 Adieu - What So Not\n",
      "2023-06-12T10:21:19.471Z56 3 Gymnopédies: No. 1, Lent et douloureux - Erik Satie\n",
      "2023-06-12T10:18:08.456Z41 Adieu - What So Not\n",
      "2023-06-12T10:15:40.229Z58 Smile - Nohidea\n",
      "2023-06-12T08:02:09.882Z47 Closing the Door - RADWIMPS\n",
      "2023-06-12T07:58:16.898Z44 Prayer - Kazuma Jinnouchi\n",
      "2023-06-12T07:55:11.171Z47 To be with Sota - RADWIMPS\n",
      "2023-06-12T07:52:48.003Z44 Aftermath - Kazuma Jinnouchi\n",
      "2023-06-12T07:50:07.104Z56 Sky Over Tokyo - RADWIMPS\n",
      "2023-06-11T17:40:42.495Z55 PCH - Jaden\n",
      "2023-06-11T17:34:51.082Z45 Street Fighter - rei brown\n",
      "2023-06-11T17:31:49.491Z48 Goddess - BANKS\n",
      "2023-06-11T17:27:46.953Z60 Passing Out Pieces - Mac DeMarco\n",
      "2023-06-11T17:24:59.450Z54 Let My Baby Stay - Mac DeMarco\n",
      "corcy different kinda girl score: 50.52\n"
     ]
    }
   ],
   "source": [
    "import spotipy\n",
    "from spotipy.oauth2 import SpotifyOAuth\n",
    "\n",
    "import json\n",
    "\n",
    "\n",
    "print(CLIENT_ID)\n",
    "print(CLIENT_SECRET)\n",
    "\n",
    "sp = spotipy.Spotify(auth_manager=SpotifyOAuth(client_id=CLIENT_ID,\n",
    "                                               client_secret=CLIENT_SECRET,\n",
    "                                               redirect_uri=\"http://localhost:3000\",\n",
    "                                               scope=\"user-read-recently-played\"))\n",
    "\n",
    "results = sp.current_user_recently_played(limit=50)\n",
    "# print(json.dumps(results['items'][-1], indent=2))\n",
    "\n",
    "pop = 0\n",
    "for item in results['items']:\n",
    "    track = item['track']\n",
    "    # print(json.dumps(item, indent=2))\n",
    "    print(str(item['played_at']) + str(track['popularity']) + ' ' + track['name'] + ' - ' + track['artists'][0]['name'])\n",
    "    pop += int(track['popularity'])\n",
    "\n",
    "\n",
    "print('corcy different kinda girl score: ' + str(pop/50))\n"
   ]
  }
 ],
 "metadata": {
  "kernelspec": {
   "display_name": "Python 3.10.11 ('clara_und_infoVis')",
   "language": "python",
   "name": "python3"
  },
  "language_info": {
   "codemirror_mode": {
    "name": "ipython",
    "version": 3
   },
   "file_extension": ".py",
   "mimetype": "text/x-python",
   "name": "python",
   "nbconvert_exporter": "python",
   "pygments_lexer": "ipython3",
   "version": "3.10.11"
  },
  "orig_nbformat": 4,
  "vscode": {
   "interpreter": {
    "hash": "3a2249ca59deb5ddbd04ee0a649a9e704134f8958529e2a73d0864632fec51ea"
   }
  }
 },
 "nbformat": 4,
 "nbformat_minor": 2
}
